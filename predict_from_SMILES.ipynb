{
  "nbformat": 4,
  "nbformat_minor": 0,
  "metadata": {
    "colab": {
      "provenance": []
    },
    "kernelspec": {
      "name": "python3",
      "display_name": "Python 3"
    },
    "language_info": {
      "name": "python"
    }
  },
  "cells": [
    {
      "cell_type": "code",
      "source": [
        "%%capture\n",
        "!pip install rdkit\n",
        "!pip install torch_geometric"
      ],
      "metadata": {
        "id": "mQhlMG5QDIXf"
      },
      "execution_count": 1,
      "outputs": []
    },
    {
      "cell_type": "code",
      "execution_count": 2,
      "metadata": {
        "id": "ba-esOpjDGWy"
      },
      "outputs": [],
      "source": [
        "import pandas as pd\n",
        "import torch\n",
        "from torch_geometric.utils import from_smiles\n"
      ]
    },
    {
      "cell_type": "code",
      "source": [
        "device = torch.device('cuda' if torch.cuda.is_available() else 'cpu')\n",
        "model = torch.load('/content/model_lipo_tuned.pth', map_location=device)\n",
        "model.eval()"
      ],
      "metadata": {
        "colab": {
          "base_uri": "https://localhost:8080/"
        },
        "id": "gaVXfCqCDIB7",
        "outputId": "0343b436-3092-46bd-9e81-721704706ca5"
      },
      "execution_count": 5,
      "outputs": [
        {
          "output_type": "execute_result",
          "data": {
            "text/plain": [
              "AttentiveFP(in_channels=9, hidden_channels=64, out_channels=1, edge_dim=3, num_layers=6, num_timesteps=2)"
            ]
          },
          "metadata": {},
          "execution_count": 5
        }
      ]
    },
    {
      "cell_type": "code",
      "source": [
        "def predict_lipophilicity(smiles_list):\n",
        "    predictions = []\n",
        "    for smile in smiles_list:\n",
        "        # Convert SMILES to graph\n",
        "        g = from_smiles(smile)\n",
        "        g.x = g.x.float()\n",
        "        g = g.to(device)\n",
        "\n",
        "        # Add batch information\n",
        "        g.batch = torch.tensor([0] * g.num_nodes, dtype=torch.long, device=device)\n",
        "\n",
        "        # Perform prediction\n",
        "        with torch.no_grad():\n",
        "            pred = model(g.x, g.edge_index, g.edge_attr, g.batch)\n",
        "        predictions.append(pred.item())\n",
        "    return predictions"
      ],
      "metadata": {
        "id": "-JdosgefDQ-W"
      },
      "execution_count": 6,
      "outputs": []
    },
    {
      "cell_type": "code",
      "source": [
        "external_smiles = [\n",
        "    'OCC1=C(O)C=C(O)C=C1',  # Replace with actual SMILES strings you want to predict\n",
        "    'C12=CC=CC=C1C=C3C(C=C(C=CC=C4)C4=C3)=C2'\n",
        "]\n",
        "\n",
        "lipophilicity_predictions = predict_lipophilicity(external_smiles)\n",
        "\n",
        "for smile, pred in zip(external_smiles, lipophilicity_predictions):\n",
        "    print(f'SMILES: {smile}, Predicted Lipophilicity: {pred:.4f}')"
      ],
      "metadata": {
        "colab": {
          "base_uri": "https://localhost:8080/"
        },
        "id": "xjHf3KjYDXIq",
        "outputId": "337d0569-083a-4477-9962-c6cc5aac94b1"
      },
      "execution_count": 10,
      "outputs": [
        {
          "output_type": "stream",
          "name": "stdout",
          "text": [
            "SMILES: OCC1=C(O)C=C(O)C=C1, Predicted Lipophilicity: 0.2754\n",
            "SMILES: C12=CC=CC=C1C=C3C(C=C(C=CC=C4)C4=C3)=C2, Predicted Lipophilicity: 4.1201\n"
          ]
        }
      ]
    },
    {
      "cell_type": "code",
      "source": [
        "lipophilicity_predictions"
      ],
      "metadata": {
        "colab": {
          "base_uri": "https://localhost:8080/"
        },
        "id": "vm-SbAiqaVmM",
        "outputId": "ec1e6ee4-1195-4ed6-f4cd-fbdb338563dd"
      },
      "execution_count": 8,
      "outputs": [
        {
          "output_type": "execute_result",
          "data": {
            "text/plain": [
              "[0.275351345539093, 4.120083332061768]"
            ]
          },
          "metadata": {},
          "execution_count": 8
        }
      ]
    }
  ]
}