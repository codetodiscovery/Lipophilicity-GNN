{
  "cells": [
    {
      "cell_type": "code",
      "execution_count": null,
      "metadata": {
        "id": "wcGR0eMxacRq"
      },
      "outputs": [],
      "source": [
        "%%capture\n",
        "!pip install rdkit\n",
        "!pip install torch_geometric"
      ]
    },
    {
      "cell_type": "code",
      "execution_count": null,
      "metadata": {
        "id": "FuizHqMIcgp-"
      },
      "outputs": [],
      "source": [
        "import numpy as np\n",
        "import pandas as pd\n",
        "import matplotlib.pyplot as plt\n",
        "import seaborn as sns\n",
        "import networkx as nx\n",
        "from math import sqrt\n",
        "\n",
        "from rdkit import Chem\n",
        "from rdkit.Chem import AllChem, Draw, PandasTools, Descriptors\n",
        "# from rdkit.Chem.rdmolops import GetAdjacencyMatrix\n",
        "# from rdkit.Chem.Draw import IPythonConsole\n",
        "# from tqdm import tqdm\n",
        "\n",
        "import torch.nn.functional as F\n",
        "from torch.utils.data import random_split\n",
        "\n",
        "from torch_geometric.data import Data\n",
        "from torch_geometric.loader import DataLoader\n",
        "from torch_geometric.utils import to_networkx\n",
        "from torch_geometric.nn import AttentiveFP"
      ]
    },
    {
      "cell_type": "code",
      "execution_count": null,
      "metadata": {
        "id": "BLPk-LcLAbvW"
      },
      "outputs": [],
      "source": [
        "import os\n",
        "import random\n",
        "from collections import Counter\n",
        "\n",
        "import torch\n",
        "\n",
        "from torch_geometric.data import InMemoryDataset, download_url, extract_gz\n",
        "from torch_geometric.utils import from_smiles\n",
        "from sklearn.metrics import r2_score, mean_squared_error"
      ]
    },
    {
      "cell_type": "code",
      "source": [
        "# print(plt.style.available)\n",
        "plt.style.use('ggplot')"
      ],
      "metadata": {
        "id": "hKYDoow-3ZZE"
      },
      "execution_count": null,
      "outputs": []
    },
    {
      "cell_type": "code",
      "source": [
        "def seed_set(seed=50):\n",
        "    random.seed(seed)\n",
        "    os.environ['PYTHONHASHSEED'] = str(seed)\n",
        "    np.random.seed(seed)\n",
        "    torch.manual_seed(seed)\n",
        "    torch.cuda.manual_seed(seed)"
      ],
      "metadata": {
        "id": "QW7qSA3trgqa"
      },
      "execution_count": null,
      "outputs": []
    },
    {
      "cell_type": "code",
      "source": [
        "seed_set()"
      ],
      "metadata": {
        "id": "Z6KBklDLrtN-"
      },
      "execution_count": null,
      "outputs": []
    },
    {
      "cell_type": "markdown",
      "source": [
        "## **Loading Dataset**"
      ],
      "metadata": {
        "id": "lcVgQadKaD8p"
      }
    },
    {
      "cell_type": "code",
      "execution_count": null,
      "metadata": {
        "id": "A_GzV519VF4q"
      },
      "outputs": [],
      "source": [
        "df = pd.read_csv('Lipophilicity.csv')"
      ]
    },
    {
      "cell_type": "code",
      "execution_count": null,
      "metadata": {
        "id": "o2AH1tvEVJ8p"
      },
      "outputs": [],
      "source": [
        "df.head()"
      ]
    },
    {
      "cell_type": "markdown",
      "source": [
        "## **Data Analysis**"
      ],
      "metadata": {
        "id": "kkfIYLlOaK_z"
      }
    },
    {
      "cell_type": "code",
      "source": [
        "df.describe()"
      ],
      "metadata": {
        "id": "WiiBvooTIxQA"
      },
      "execution_count": null,
      "outputs": []
    },
    {
      "cell_type": "code",
      "source": [
        "# make sure there are no duplicates\n",
        "df['smiles'].nunique()"
      ],
      "metadata": {
        "id": "2H9-2Q4BI4Kw"
      },
      "execution_count": null,
      "outputs": []
    },
    {
      "cell_type": "code",
      "source": [
        "# distribution of exp lipophilicity values\n",
        "\n",
        "plt.figure(figsize=(6,6))\n",
        "sns.histplot(data=df, x='exp', y=None, hue=None)\n",
        "# plt.hist(df['exp'], bins=30)\n",
        "plt.xlabel('Exp Lipophilicity Values')\n",
        "plt.ylabel('Count')"
      ],
      "metadata": {
        "id": "JIhBjLlniiwJ"
      },
      "execution_count": null,
      "outputs": []
    },
    {
      "cell_type": "code",
      "source": [
        "PandasTools.AddMoleculeColumnToFrame(df, smilesCol='smiles', molCol='mol')"
      ],
      "metadata": {
        "id": "mHCpTZ4nlazX"
      },
      "execution_count": null,
      "outputs": []
    },
    {
      "cell_type": "code",
      "source": [
        "df.head()"
      ],
      "metadata": {
        "id": "Y63o8MFYmX1D"
      },
      "execution_count": null,
      "outputs": []
    },
    {
      "cell_type": "code",
      "source": [
        "mwt = []\n",
        "for mol in df['mol']:\n",
        "  MW = Descriptors.MolWt(mol)\n",
        "  mwt.append(MW)\n",
        "\n",
        "df['molwt'] = mwt"
      ],
      "metadata": {
        "id": "JxP5dVHbmZ8S"
      },
      "execution_count": null,
      "outputs": []
    },
    {
      "cell_type": "code",
      "source": [
        "df.head()"
      ],
      "metadata": {
        "id": "cFi_ddMim9c4"
      },
      "execution_count": null,
      "outputs": []
    },
    {
      "cell_type": "code",
      "source": [
        "# Distribution of Molecular Weight in Raw Dataset\n",
        "\n",
        "plt.figure(figsize=(6,6))\n",
        "sns.histplot(data=df, x='molwt', y=None, hue=None)\n",
        "# plt.hist(df['exp'], bins=30)\n",
        "plt.xlabel('Molecular Weight')\n",
        "plt.ylabel('Count')"
      ],
      "metadata": {
        "id": "cGtOSR4NnAK9"
      },
      "execution_count": null,
      "outputs": []
    },
    {
      "cell_type": "code",
      "source": [
        "high_mwt = df[df['molwt'] > 700]\n",
        "high_mwt"
      ],
      "metadata": {
        "id": "wYZEcFtLnRbd"
      },
      "execution_count": null,
      "outputs": []
    },
    {
      "cell_type": "code",
      "source": [
        "high_mwt.shape"
      ],
      "metadata": {
        "id": "j_wZwlEIjk5N"
      },
      "execution_count": null,
      "outputs": []
    },
    {
      "cell_type": "code",
      "source": [
        "img=Draw.MolsToGridImage(high_mwt['mol'], molsPerRow=4, subImgSize=(200,200),legends=[str(x) for x in high_mwt['molwt']])\n",
        "img"
      ],
      "metadata": {
        "id": "QF3lMQXBng8c"
      },
      "execution_count": null,
      "outputs": []
    },
    {
      "cell_type": "code",
      "source": [
        "smiles = high_mwt['smiles']\n",
        "df_final = df[~df['smiles'].isin(smiles)]"
      ],
      "metadata": {
        "id": "FmKY-P6ToQ4K"
      },
      "execution_count": null,
      "outputs": []
    },
    {
      "cell_type": "code",
      "source": [
        "df_final.head()"
      ],
      "metadata": {
        "id": "ypDN2et5olFO"
      },
      "execution_count": null,
      "outputs": []
    },
    {
      "cell_type": "code",
      "source": [
        "df_final.shape"
      ],
      "metadata": {
        "id": "hhIVM-5Kj-5m"
      },
      "execution_count": null,
      "outputs": []
    },
    {
      "cell_type": "code",
      "source": [
        "# df_final = df_final[['CMPD_CHEMBLID', 'exp', 'smiles']]\n",
        "# df_final.to_csv('Lipophilicity_final.csv', index=None)"
      ],
      "metadata": {
        "id": "KInDFQYzwYXw"
      },
      "execution_count": null,
      "outputs": []
    },
    {
      "cell_type": "code",
      "source": [
        "# Distribution of Molecular Weight in Truncated Dataset\n",
        "\n",
        "plt.figure(figsize=(6,6))\n",
        "sns.histplot(data=df_final, x='molwt', y=None, hue=None)\n",
        "# plt.hist(df['exp'], bins=30)\n",
        "plt.xlabel('Molecular Weight')\n",
        "plt.ylabel('Count')"
      ],
      "metadata": {
        "id": "HF1Wd5edoqBt"
      },
      "execution_count": null,
      "outputs": []
    },
    {
      "cell_type": "code",
      "source": [
        "df_final = df_final.reset_index(drop=True)"
      ],
      "metadata": {
        "id": "-RLVQSCUuPlB"
      },
      "execution_count": null,
      "outputs": []
    },
    {
      "cell_type": "code",
      "source": [
        "df_final.describe()"
      ],
      "metadata": {
        "id": "AFf53prfuV-U"
      },
      "execution_count": null,
      "outputs": []
    },
    {
      "cell_type": "code",
      "source": [
        "df_final.head()"
      ],
      "metadata": {
        "id": "49MaW_lNOLLI"
      },
      "execution_count": null,
      "outputs": []
    },
    {
      "cell_type": "code",
      "source": [
        "unique_atoms = set()\n",
        "for mol in df_final['mol']:\n",
        "  for atom in mol.GetAtoms():\n",
        "    a = atom.GetSymbol()\n",
        "    unique_atoms.add(a)"
      ],
      "metadata": {
        "id": "740UHjMju0ga"
      },
      "execution_count": null,
      "outputs": []
    },
    {
      "cell_type": "code",
      "source": [
        "unique_atoms"
      ],
      "metadata": {
        "id": "9Tape0-9Rq5E"
      },
      "execution_count": null,
      "outputs": []
    },
    {
      "cell_type": "code",
      "source": [
        "atom_list = []\n",
        "for mol in df_final['mol']:\n",
        "  for atom in mol.GetAtoms():\n",
        "    a = atom.GetSymbol()\n",
        "    atom_list.append(a)"
      ],
      "metadata": {
        "id": "PSG7q6DHR0vy"
      },
      "execution_count": null,
      "outputs": []
    },
    {
      "cell_type": "code",
      "source": [
        "Counter(atom_list)"
      ],
      "metadata": {
        "id": "03LLeihwSbHz"
      },
      "execution_count": null,
      "outputs": []
    },
    {
      "cell_type": "code",
      "source": [
        "dict_ = { 'N': 14505,\n",
        "         'Cl': 1288,\n",
        "         'O': 10679,\n",
        "         'S': 1580,\n",
        "         'F': 1760,\n",
        "         'B': 6,\n",
        "         'Br': 100,\n",
        "         'P': 3,\n",
        "         'I': 7,\n",
        "         'Si': 1,\n",
        "         'Se': 1}"
      ],
      "metadata": {
        "id": "aO5TNISOTa57"
      },
      "execution_count": null,
      "outputs": []
    },
    {
      "cell_type": "code",
      "source": [
        "df_freq = pd.DataFrame(dict_.items(), columns = ['Atoms', 'Count']).sort_values('Count', ascending=False)"
      ],
      "metadata": {
        "id": "9Oaa58tQS3fy"
      },
      "execution_count": null,
      "outputs": []
    },
    {
      "cell_type": "code",
      "source": [
        "df_freq.head()"
      ],
      "metadata": {
        "id": "mtFB5FLxTmMI"
      },
      "execution_count": null,
      "outputs": []
    },
    {
      "cell_type": "code",
      "source": [
        "plt.figure(figsize=(12,6))\n",
        "sns.barplot(df_freq, x = 'Atoms', y = 'Count', palette = 'Set2')\n",
        "plt.ylabel('Frequency in the Datset')\n",
        "plt.show()"
      ],
      "metadata": {
        "id": "vFj1rNGqTpOk"
      },
      "execution_count": null,
      "outputs": []
    },
    {
      "cell_type": "code",
      "source": [
        "# b_mols = [Chem.MolFromSmiles(x) for x in b_smiles[-50:]]\n",
        "# img=Draw.MolsToGridImage(b_mols,molsPerRow=4,subImgSize=(400,400))\n",
        "# img"
      ],
      "metadata": {
        "id": "Co1rQoJthByA"
      },
      "execution_count": null,
      "outputs": []
    },
    {
      "cell_type": "code",
      "source": [
        "atom_list = ['B', 'Br','Cl', 'F', 'I', 'N', 'O', 'P', 'S', 'Se', 'Si']\n",
        "dict_2 = {}\n",
        "for i in range(len(atom_list)):\n",
        "  count=0\n",
        "  for mol in df_final[\"mol\"]:\n",
        "    all_atoms = set()\n",
        "    for atom in mol.GetAtoms():\n",
        "      a = atom.GetSymbol()\n",
        "      all_atoms.add(a)\n",
        "    if atom_list[i] in all_atoms:\n",
        "      count+=1\n",
        "    dict_2[atom_list[i]] = count"
      ],
      "metadata": {
        "id": "pgTyvHtpeLHG"
      },
      "execution_count": null,
      "outputs": []
    },
    {
      "cell_type": "code",
      "source": [
        "dict_2"
      ],
      "metadata": {
        "id": "KIP1JmIlfCyE"
      },
      "execution_count": null,
      "outputs": []
    },
    {
      "cell_type": "code",
      "source": [
        "df_freq_2 = pd.DataFrame(dict_2.items(), columns = ['Atoms', 'Count']).sort_values('Count', ascending=False)"
      ],
      "metadata": {
        "id": "L_UMQsgQgSbP"
      },
      "execution_count": null,
      "outputs": []
    },
    {
      "cell_type": "code",
      "source": [
        "plt.figure(figsize=(12,6))\n",
        "sns.barplot(df_freq_2, x = 'Atoms', y = 'Count', palette = 'Set2')\n",
        "plt.ylabel('Count of Molecules')\n",
        "plt.show()"
      ],
      "metadata": {
        "id": "XKYtwcffiy_Y"
      },
      "execution_count": null,
      "outputs": []
    },
    {
      "cell_type": "markdown",
      "source": [
        "## **Generating and Analyzing Graphs**"
      ],
      "metadata": {
        "id": "xfh_rkplaTBV"
      }
    },
    {
      "cell_type": "code",
      "source": [
        "df_final = pd.read_csv('Lipophilicity_final.csv')"
      ],
      "metadata": {
        "id": "OpnX8sK_wmtf"
      },
      "execution_count": null,
      "outputs": []
    },
    {
      "cell_type": "code",
      "source": [
        "df_final.head()"
      ],
      "metadata": {
        "id": "x_93-bFLwvXG"
      },
      "execution_count": null,
      "outputs": []
    },
    {
      "cell_type": "code",
      "source": [
        "smile = df_final['smiles'][92]"
      ],
      "metadata": {
        "id": "BBYGLZ2AJnVj"
      },
      "execution_count": null,
      "outputs": []
    },
    {
      "cell_type": "code",
      "source": [
        "smile"
      ],
      "metadata": {
        "id": "D5Vc4xneJvPT"
      },
      "execution_count": null,
      "outputs": []
    },
    {
      "cell_type": "code",
      "source": [
        "mol = Chem.MolFromSmiles(smile)\n",
        "img = Draw.MolToImage(mol)\n",
        "img"
      ],
      "metadata": {
        "id": "sognXWlvJwyw"
      },
      "execution_count": null,
      "outputs": []
    },
    {
      "cell_type": "code",
      "source": [
        "g = from_smiles(smile, with_hydrogen=False)\n",
        "g"
      ],
      "metadata": {
        "id": "9ML2Ct-yKYCO"
      },
      "execution_count": null,
      "outputs": []
    },
    {
      "cell_type": "code",
      "source": [
        "# type(g)"
      ],
      "metadata": {
        "id": "rVNg1M3o259Y"
      },
      "execution_count": null,
      "outputs": []
    },
    {
      "cell_type": "code",
      "source": [
        "g.x.dtype"
      ],
      "metadata": {
        "id": "OBWzT7ikhEPG"
      },
      "execution_count": null,
      "outputs": []
    },
    {
      "cell_type": "code",
      "source": [
        "g.x"
      ],
      "metadata": {
        "id": "J1FvbfP1x6z0"
      },
      "execution_count": null,
      "outputs": []
    },
    {
      "cell_type": "code",
      "source": [
        "g.num_nodes"
      ],
      "metadata": {
        "id": "-y4ek0Z1zbdl"
      },
      "execution_count": null,
      "outputs": []
    },
    {
      "cell_type": "code",
      "source": [
        "g.num_node_features"
      ],
      "metadata": {
        "id": "g-t3591iywax"
      },
      "execution_count": null,
      "outputs": []
    },
    {
      "cell_type": "code",
      "source": [
        "g.edge_index"
      ],
      "metadata": {
        "id": "1U4rjCOC0TNr"
      },
      "execution_count": null,
      "outputs": []
    },
    {
      "cell_type": "code",
      "source": [
        "g.edge_attr"
      ],
      "metadata": {
        "id": "bnL3ByPQy7wx"
      },
      "execution_count": null,
      "outputs": []
    },
    {
      "cell_type": "code",
      "source": [
        "g"
      ],
      "metadata": {
        "id": "hK7X2uqG1WZa"
      },
      "execution_count": null,
      "outputs": []
    },
    {
      "cell_type": "code",
      "source": [
        "G = to_networkx(g)"
      ],
      "metadata": {
        "id": "DcND_nk_LQZU"
      },
      "execution_count": null,
      "outputs": []
    },
    {
      "cell_type": "code",
      "source": [
        "type(G)"
      ],
      "metadata": {
        "id": "An_UXmy7gB_m"
      },
      "execution_count": null,
      "outputs": []
    },
    {
      "cell_type": "code",
      "source": [
        "G.number_of_nodes()"
      ],
      "metadata": {
        "id": "_9UY1jfkLir0"
      },
      "execution_count": null,
      "outputs": []
    },
    {
      "cell_type": "code",
      "source": [
        "list(G.nodes)"
      ],
      "metadata": {
        "id": "Brky0-TNMFbp"
      },
      "execution_count": null,
      "outputs": []
    },
    {
      "cell_type": "code",
      "source": [
        "G.number_of_edges()"
      ],
      "metadata": {
        "id": "j0qiJGGDLuFW"
      },
      "execution_count": null,
      "outputs": []
    },
    {
      "cell_type": "code",
      "source": [
        "list(G.edges)"
      ],
      "metadata": {
        "id": "oODhL6siMRy0"
      },
      "execution_count": null,
      "outputs": []
    },
    {
      "cell_type": "code",
      "source": [
        "img"
      ],
      "metadata": {
        "id": "ecoHTWCb1yR5"
      },
      "execution_count": null,
      "outputs": []
    },
    {
      "cell_type": "code",
      "source": [
        "nx.draw(G, with_labels=True, font_weight='bold')\n",
        "plt.savefig(\"G.png\")"
      ],
      "metadata": {
        "id": "c4eNigx3MhW_"
      },
      "execution_count": null,
      "outputs": []
    },
    {
      "cell_type": "markdown",
      "source": [
        "# **Generate Graphs for the Whole Dataset**"
      ],
      "metadata": {
        "id": "l-AkdJz1OwGC"
      }
    },
    {
      "cell_type": "code",
      "source": [
        "df_final.head()"
      ],
      "metadata": {
        "id": "YB77BnpVXVm2"
      },
      "execution_count": null,
      "outputs": []
    },
    {
      "cell_type": "code",
      "source": [
        "graph_list = []\n",
        "for i, smile in enumerate(df_final['smiles']):\n",
        "  g = from_smiles(smile)\n",
        "  g.x = g.x.float()\n",
        "  y = torch.tensor(df_final['exp'][i], dtype=torch.float).view(1, -1)\n",
        "  g.y = y\n",
        "  graph_list.append(g)"
      ],
      "metadata": {
        "id": "Ud5ReaRnO1pQ"
      },
      "execution_count": null,
      "outputs": []
    },
    {
      "cell_type": "code",
      "source": [
        "type(graph_list[0])"
      ],
      "metadata": {
        "id": "FFVje5ILPdqb"
      },
      "execution_count": null,
      "outputs": []
    },
    {
      "cell_type": "code",
      "source": [
        "graph_list[1]"
      ],
      "metadata": {
        "id": "PcobCIAqeaOW"
      },
      "execution_count": null,
      "outputs": []
    },
    {
      "cell_type": "code",
      "source": [
        "graph_list[1].y"
      ],
      "metadata": {
        "id": "arDYEYHRnkYD"
      },
      "execution_count": null,
      "outputs": []
    },
    {
      "cell_type": "code",
      "source": [
        "class MyOwnDataset(InMemoryDataset):\n",
        "    def __init__(self, root, transform=None, pre_transform=None, pre_filter=None):\n",
        "        super().__init__(root, transform, pre_transform, pre_filter)\n",
        "        self.load(self.processed_paths[0])\n",
        "        # For PyG<2.4:\n",
        "        # self.data, self.slices = torch.load(self.processed_paths[0])\n",
        "\n",
        "    @property\n",
        "    def raw_file_names(self):\n",
        "        return 'Lipophilicity.csv'\n",
        "\n",
        "    @property\n",
        "    def processed_file_names(self):\n",
        "        return 'data.dt'\n",
        "\n",
        "    def download(self):\n",
        "        # Download to `self.raw_dir`.\n",
        "        # download_url(url, self.raw_dir)\n",
        "        pass\n",
        "\n",
        "    def process(self):\n",
        "        # Read data into huge `Data` list.\n",
        "        graph_list = []\n",
        "        for i, smile in enumerate(df_final['smiles']):\n",
        "          g = from_smiles(smile)\n",
        "          g.x = g.x.float()\n",
        "          y = torch.tensor(df_final['exp'][i], dtype=torch.float).view(1, -1)\n",
        "          g.y = y\n",
        "          graph_list.append(g)\n",
        "\n",
        "\n",
        "        data_list = graph_list\n",
        "\n",
        "        if self.pre_filter is not None:\n",
        "            data_list = [data for data in data_list if self.pre_filter(data)]\n",
        "\n",
        "        if self.pre_transform is not None:\n",
        "            data_list = [self.pre_transform(data) for data in data_list]\n",
        "\n",
        "        self.save(data_list, self.processed_paths[0])"
      ],
      "metadata": {
        "id": "UlLL6PF5XxPA"
      },
      "execution_count": null,
      "outputs": []
    },
    {
      "cell_type": "code",
      "execution_count": null,
      "metadata": {
        "id": "vuiQ4zswAtc0"
      },
      "outputs": [],
      "source": [
        "lipo = MyOwnDataset(root = '/content/')"
      ]
    },
    {
      "cell_type": "code",
      "source": [
        "type(lipo)"
      ],
      "metadata": {
        "id": "ofkfkZl17A9v"
      },
      "execution_count": null,
      "outputs": []
    },
    {
      "cell_type": "code",
      "source": [
        "lipo[23]\n"
      ],
      "metadata": {
        "id": "0vmG5n5aTZHb"
      },
      "execution_count": null,
      "outputs": []
    },
    {
      "cell_type": "code",
      "source": [
        "lipo[23].y"
      ],
      "metadata": {
        "id": "3Wpiom0ykwm1"
      },
      "execution_count": null,
      "outputs": []
    },
    {
      "cell_type": "code",
      "execution_count": null,
      "metadata": {
        "id": "7P-ti3IKeXOL"
      },
      "outputs": [],
      "source": [
        "len(lipo)"
      ]
    },
    {
      "cell_type": "markdown",
      "source": [
        "## **Train Test Split**"
      ],
      "metadata": {
        "id": "RoTC3Ky-hRk-"
      }
    },
    {
      "cell_type": "code",
      "source": [
        "train_ratio = 0.80  # 80% for training, 20% for testing\n",
        "dataset_size = len(graph_list)\n",
        "train_size = int(train_ratio * dataset_size)\n",
        "test_size = dataset_size - train_size\n",
        "\n",
        "# Split the dataset into train and test subsets\n",
        "generator1 = torch.Generator().manual_seed(42)\n",
        "train_dataset, test_dataset = random_split(graph_list, [train_size, test_size], generator=generator1)"
      ],
      "metadata": {
        "id": "BYcaTae9w1M9"
      },
      "execution_count": null,
      "outputs": []
    },
    {
      "cell_type": "code",
      "source": [
        "df_final.iloc[train_dataset.indices]"
      ],
      "metadata": {
        "id": "NxFykHWX7OSl",
        "colab": {
          "base_uri": "https://localhost:8080/",
          "height": 423
        },
        "outputId": "1b5bbcd7-0203-4c0f-f458-1e7a8ed0f627"
      },
      "execution_count": null,
      "outputs": [
        {
          "output_type": "execute_result",
          "data": {
            "text/plain": [
              "      CMPD_CHEMBLID   exp                                             smiles\n",
              "3654   CHEMBL424451  3.96         COc1ccc(C)c(NC(=O)CC23CC4CC(CC(C4)C2)C3)c1\n",
              "195    CHEMBL139347  2.40                   Nc1nc(N)nc(n1)c2cccc(c2)C(F)(F)F\n",
              "1988  CHEMBL2158833  1.10  OC(=O)c1ccc(CN2CCC(CN3CCC(CC3)Oc4ccc(Cl)c(Cl)c...\n",
              "242   CHEMBL1201373  1.07  CC[C@H](C)C(=O)O[C@H]1C[C@@H](C)C=C2C=C[C@H](C...\n",
              "310   CHEMBL1800526  2.92                 COc1ccnc(CCc2nc3cc(Br)cnc3[nH]2)c1\n",
              "...             ...   ...                                                ...\n",
              "1157    CHEMBL70824  2.16  CN(C)CCCN(C)S(=O)(=O)c1ccc(Nc2nccc(n2)c3cnc4cc...\n",
              "829    CHEMBL211631  0.49     COc1cccc2c(ccnc12)c3c(C)n(CC(=O)O)c4ccc(C)cc34\n",
              "40     CHEMBL168899  1.40                      OB1N(C(=O)Nc2ccccc12)c3ccccc3\n",
              "3768  CHEMBL1500992  3.20                  O=C(CSc1ccccc1)N2CCN(CC2)c3ccccc3\n",
              "1239  CHEMBL2172003  3.49  COc1cc(ccc1C2CC2)N3CCN([C@H](C)C3)C(=O)[C@@H]4...\n",
              "\n",
              "[3353 rows x 3 columns]"
            ],
            "text/html": [
              "\n",
              "  <div id=\"df-bbd4dc71-b6aa-4382-b9c7-1c75299d2164\" class=\"colab-df-container\">\n",
              "    <div>\n",
              "<style scoped>\n",
              "    .dataframe tbody tr th:only-of-type {\n",
              "        vertical-align: middle;\n",
              "    }\n",
              "\n",
              "    .dataframe tbody tr th {\n",
              "        vertical-align: top;\n",
              "    }\n",
              "\n",
              "    .dataframe thead th {\n",
              "        text-align: right;\n",
              "    }\n",
              "</style>\n",
              "<table border=\"1\" class=\"dataframe\">\n",
              "  <thead>\n",
              "    <tr style=\"text-align: right;\">\n",
              "      <th></th>\n",
              "      <th>CMPD_CHEMBLID</th>\n",
              "      <th>exp</th>\n",
              "      <th>smiles</th>\n",
              "    </tr>\n",
              "  </thead>\n",
              "  <tbody>\n",
              "    <tr>\n",
              "      <th>3654</th>\n",
              "      <td>CHEMBL424451</td>\n",
              "      <td>3.96</td>\n",
              "      <td>COc1ccc(C)c(NC(=O)CC23CC4CC(CC(C4)C2)C3)c1</td>\n",
              "    </tr>\n",
              "    <tr>\n",
              "      <th>195</th>\n",
              "      <td>CHEMBL139347</td>\n",
              "      <td>2.40</td>\n",
              "      <td>Nc1nc(N)nc(n1)c2cccc(c2)C(F)(F)F</td>\n",
              "    </tr>\n",
              "    <tr>\n",
              "      <th>1988</th>\n",
              "      <td>CHEMBL2158833</td>\n",
              "      <td>1.10</td>\n",
              "      <td>OC(=O)c1ccc(CN2CCC(CN3CCC(CC3)Oc4ccc(Cl)c(Cl)c...</td>\n",
              "    </tr>\n",
              "    <tr>\n",
              "      <th>242</th>\n",
              "      <td>CHEMBL1201373</td>\n",
              "      <td>1.07</td>\n",
              "      <td>CC[C@H](C)C(=O)O[C@H]1C[C@@H](C)C=C2C=C[C@H](C...</td>\n",
              "    </tr>\n",
              "    <tr>\n",
              "      <th>310</th>\n",
              "      <td>CHEMBL1800526</td>\n",
              "      <td>2.92</td>\n",
              "      <td>COc1ccnc(CCc2nc3cc(Br)cnc3[nH]2)c1</td>\n",
              "    </tr>\n",
              "    <tr>\n",
              "      <th>...</th>\n",
              "      <td>...</td>\n",
              "      <td>...</td>\n",
              "      <td>...</td>\n",
              "    </tr>\n",
              "    <tr>\n",
              "      <th>1157</th>\n",
              "      <td>CHEMBL70824</td>\n",
              "      <td>2.16</td>\n",
              "      <td>CN(C)CCCN(C)S(=O)(=O)c1ccc(Nc2nccc(n2)c3cnc4cc...</td>\n",
              "    </tr>\n",
              "    <tr>\n",
              "      <th>829</th>\n",
              "      <td>CHEMBL211631</td>\n",
              "      <td>0.49</td>\n",
              "      <td>COc1cccc2c(ccnc12)c3c(C)n(CC(=O)O)c4ccc(C)cc34</td>\n",
              "    </tr>\n",
              "    <tr>\n",
              "      <th>40</th>\n",
              "      <td>CHEMBL168899</td>\n",
              "      <td>1.40</td>\n",
              "      <td>OB1N(C(=O)Nc2ccccc12)c3ccccc3</td>\n",
              "    </tr>\n",
              "    <tr>\n",
              "      <th>3768</th>\n",
              "      <td>CHEMBL1500992</td>\n",
              "      <td>3.20</td>\n",
              "      <td>O=C(CSc1ccccc1)N2CCN(CC2)c3ccccc3</td>\n",
              "    </tr>\n",
              "    <tr>\n",
              "      <th>1239</th>\n",
              "      <td>CHEMBL2172003</td>\n",
              "      <td>3.49</td>\n",
              "      <td>COc1cc(ccc1C2CC2)N3CCN([C@H](C)C3)C(=O)[C@@H]4...</td>\n",
              "    </tr>\n",
              "  </tbody>\n",
              "</table>\n",
              "<p>3353 rows × 3 columns</p>\n",
              "</div>\n",
              "    <div class=\"colab-df-buttons\">\n",
              "\n",
              "  <div class=\"colab-df-container\">\n",
              "    <button class=\"colab-df-convert\" onclick=\"convertToInteractive('df-bbd4dc71-b6aa-4382-b9c7-1c75299d2164')\"\n",
              "            title=\"Convert this dataframe to an interactive table.\"\n",
              "            style=\"display:none;\">\n",
              "\n",
              "  <svg xmlns=\"http://www.w3.org/2000/svg\" height=\"24px\" viewBox=\"0 -960 960 960\">\n",
              "    <path d=\"M120-120v-720h720v720H120Zm60-500h600v-160H180v160Zm220 220h160v-160H400v160Zm0 220h160v-160H400v160ZM180-400h160v-160H180v160Zm440 0h160v-160H620v160ZM180-180h160v-160H180v160Zm440 0h160v-160H620v160Z\"/>\n",
              "  </svg>\n",
              "    </button>\n",
              "\n",
              "  <style>\n",
              "    .colab-df-container {\n",
              "      display:flex;\n",
              "      gap: 12px;\n",
              "    }\n",
              "\n",
              "    .colab-df-convert {\n",
              "      background-color: #E8F0FE;\n",
              "      border: none;\n",
              "      border-radius: 50%;\n",
              "      cursor: pointer;\n",
              "      display: none;\n",
              "      fill: #1967D2;\n",
              "      height: 32px;\n",
              "      padding: 0 0 0 0;\n",
              "      width: 32px;\n",
              "    }\n",
              "\n",
              "    .colab-df-convert:hover {\n",
              "      background-color: #E2EBFA;\n",
              "      box-shadow: 0px 1px 2px rgba(60, 64, 67, 0.3), 0px 1px 3px 1px rgba(60, 64, 67, 0.15);\n",
              "      fill: #174EA6;\n",
              "    }\n",
              "\n",
              "    .colab-df-buttons div {\n",
              "      margin-bottom: 4px;\n",
              "    }\n",
              "\n",
              "    [theme=dark] .colab-df-convert {\n",
              "      background-color: #3B4455;\n",
              "      fill: #D2E3FC;\n",
              "    }\n",
              "\n",
              "    [theme=dark] .colab-df-convert:hover {\n",
              "      background-color: #434B5C;\n",
              "      box-shadow: 0px 1px 3px 1px rgba(0, 0, 0, 0.15);\n",
              "      filter: drop-shadow(0px 1px 2px rgba(0, 0, 0, 0.3));\n",
              "      fill: #FFFFFF;\n",
              "    }\n",
              "  </style>\n",
              "\n",
              "    <script>\n",
              "      const buttonEl =\n",
              "        document.querySelector('#df-bbd4dc71-b6aa-4382-b9c7-1c75299d2164 button.colab-df-convert');\n",
              "      buttonEl.style.display =\n",
              "        google.colab.kernel.accessAllowed ? 'block' : 'none';\n",
              "\n",
              "      async function convertToInteractive(key) {\n",
              "        const element = document.querySelector('#df-bbd4dc71-b6aa-4382-b9c7-1c75299d2164');\n",
              "        const dataTable =\n",
              "          await google.colab.kernel.invokeFunction('convertToInteractive',\n",
              "                                                    [key], {});\n",
              "        if (!dataTable) return;\n",
              "\n",
              "        const docLinkHtml = 'Like what you see? Visit the ' +\n",
              "          '<a target=\"_blank\" href=https://colab.research.google.com/notebooks/data_table.ipynb>data table notebook</a>'\n",
              "          + ' to learn more about interactive tables.';\n",
              "        element.innerHTML = '';\n",
              "        dataTable['output_type'] = 'display_data';\n",
              "        await google.colab.output.renderOutput(dataTable, element);\n",
              "        const docLink = document.createElement('div');\n",
              "        docLink.innerHTML = docLinkHtml;\n",
              "        element.appendChild(docLink);\n",
              "      }\n",
              "    </script>\n",
              "  </div>\n",
              "\n",
              "\n",
              "<div id=\"df-75a2f447-67b2-4b21-aabb-023167bbafb5\">\n",
              "  <button class=\"colab-df-quickchart\" onclick=\"quickchart('df-75a2f447-67b2-4b21-aabb-023167bbafb5')\"\n",
              "            title=\"Suggest charts\"\n",
              "            style=\"display:none;\">\n",
              "\n",
              "<svg xmlns=\"http://www.w3.org/2000/svg\" height=\"24px\"viewBox=\"0 0 24 24\"\n",
              "     width=\"24px\">\n",
              "    <g>\n",
              "        <path d=\"M19 3H5c-1.1 0-2 .9-2 2v14c0 1.1.9 2 2 2h14c1.1 0 2-.9 2-2V5c0-1.1-.9-2-2-2zM9 17H7v-7h2v7zm4 0h-2V7h2v10zm4 0h-2v-4h2v4z\"/>\n",
              "    </g>\n",
              "</svg>\n",
              "  </button>\n",
              "\n",
              "<style>\n",
              "  .colab-df-quickchart {\n",
              "      --bg-color: #E8F0FE;\n",
              "      --fill-color: #1967D2;\n",
              "      --hover-bg-color: #E2EBFA;\n",
              "      --hover-fill-color: #174EA6;\n",
              "      --disabled-fill-color: #AAA;\n",
              "      --disabled-bg-color: #DDD;\n",
              "  }\n",
              "\n",
              "  [theme=dark] .colab-df-quickchart {\n",
              "      --bg-color: #3B4455;\n",
              "      --fill-color: #D2E3FC;\n",
              "      --hover-bg-color: #434B5C;\n",
              "      --hover-fill-color: #FFFFFF;\n",
              "      --disabled-bg-color: #3B4455;\n",
              "      --disabled-fill-color: #666;\n",
              "  }\n",
              "\n",
              "  .colab-df-quickchart {\n",
              "    background-color: var(--bg-color);\n",
              "    border: none;\n",
              "    border-radius: 50%;\n",
              "    cursor: pointer;\n",
              "    display: none;\n",
              "    fill: var(--fill-color);\n",
              "    height: 32px;\n",
              "    padding: 0;\n",
              "    width: 32px;\n",
              "  }\n",
              "\n",
              "  .colab-df-quickchart:hover {\n",
              "    background-color: var(--hover-bg-color);\n",
              "    box-shadow: 0 1px 2px rgba(60, 64, 67, 0.3), 0 1px 3px 1px rgba(60, 64, 67, 0.15);\n",
              "    fill: var(--button-hover-fill-color);\n",
              "  }\n",
              "\n",
              "  .colab-df-quickchart-complete:disabled,\n",
              "  .colab-df-quickchart-complete:disabled:hover {\n",
              "    background-color: var(--disabled-bg-color);\n",
              "    fill: var(--disabled-fill-color);\n",
              "    box-shadow: none;\n",
              "  }\n",
              "\n",
              "  .colab-df-spinner {\n",
              "    border: 2px solid var(--fill-color);\n",
              "    border-color: transparent;\n",
              "    border-bottom-color: var(--fill-color);\n",
              "    animation:\n",
              "      spin 1s steps(1) infinite;\n",
              "  }\n",
              "\n",
              "  @keyframes spin {\n",
              "    0% {\n",
              "      border-color: transparent;\n",
              "      border-bottom-color: var(--fill-color);\n",
              "      border-left-color: var(--fill-color);\n",
              "    }\n",
              "    20% {\n",
              "      border-color: transparent;\n",
              "      border-left-color: var(--fill-color);\n",
              "      border-top-color: var(--fill-color);\n",
              "    }\n",
              "    30% {\n",
              "      border-color: transparent;\n",
              "      border-left-color: var(--fill-color);\n",
              "      border-top-color: var(--fill-color);\n",
              "      border-right-color: var(--fill-color);\n",
              "    }\n",
              "    40% {\n",
              "      border-color: transparent;\n",
              "      border-right-color: var(--fill-color);\n",
              "      border-top-color: var(--fill-color);\n",
              "    }\n",
              "    60% {\n",
              "      border-color: transparent;\n",
              "      border-right-color: var(--fill-color);\n",
              "    }\n",
              "    80% {\n",
              "      border-color: transparent;\n",
              "      border-right-color: var(--fill-color);\n",
              "      border-bottom-color: var(--fill-color);\n",
              "    }\n",
              "    90% {\n",
              "      border-color: transparent;\n",
              "      border-bottom-color: var(--fill-color);\n",
              "    }\n",
              "  }\n",
              "</style>\n",
              "\n",
              "  <script>\n",
              "    async function quickchart(key) {\n",
              "      const quickchartButtonEl =\n",
              "        document.querySelector('#' + key + ' button');\n",
              "      quickchartButtonEl.disabled = true;  // To prevent multiple clicks.\n",
              "      quickchartButtonEl.classList.add('colab-df-spinner');\n",
              "      try {\n",
              "        const charts = await google.colab.kernel.invokeFunction(\n",
              "            'suggestCharts', [key], {});\n",
              "      } catch (error) {\n",
              "        console.error('Error during call to suggestCharts:', error);\n",
              "      }\n",
              "      quickchartButtonEl.classList.remove('colab-df-spinner');\n",
              "      quickchartButtonEl.classList.add('colab-df-quickchart-complete');\n",
              "    }\n",
              "    (() => {\n",
              "      let quickchartButtonEl =\n",
              "        document.querySelector('#df-75a2f447-67b2-4b21-aabb-023167bbafb5 button');\n",
              "      quickchartButtonEl.style.display =\n",
              "        google.colab.kernel.accessAllowed ? 'block' : 'none';\n",
              "    })();\n",
              "  </script>\n",
              "</div>\n",
              "\n",
              "    </div>\n",
              "  </div>\n"
            ],
            "application/vnd.google.colaboratory.intrinsic+json": {
              "type": "dataframe",
              "summary": "{\n  \"name\": \"df_final\",\n  \"rows\": 3353,\n  \"fields\": [\n    {\n      \"column\": \"CMPD_CHEMBLID\",\n      \"properties\": {\n        \"dtype\": \"string\",\n        \"num_unique_values\": 3353,\n        \"samples\": [\n          \"CHEMBL87266\",\n          \"CHEMBL528724\",\n          \"CHEMBL1891277\"\n        ],\n        \"semantic_type\": \"\",\n        \"description\": \"\"\n      }\n    },\n    {\n      \"column\": \"exp\",\n      \"properties\": {\n        \"dtype\": \"number\",\n        \"std\": 1.207241238381267,\n        \"min\": -1.48,\n        \"max\": 4.5,\n        \"num_unique_values\": 539,\n        \"samples\": [\n          -1.33,\n          3.35,\n          3.33\n        ],\n        \"semantic_type\": \"\",\n        \"description\": \"\"\n      }\n    },\n    {\n      \"column\": \"smiles\",\n      \"properties\": {\n        \"dtype\": \"string\",\n        \"num_unique_values\": 3353,\n        \"samples\": [\n          \"Cc1cc(N)c2cc(NC(=O)CC(=O)Nc3ccc4nc(C)cc(N)c4c3)ccc2n1\",\n          \"Cc1cc2nc(NC(=N)N)nc(C)c2cc1C\",\n          \"Cc1ccc(cc1)c2cc(C(=O)N3CCOCC3)c4cc(C)ccc4n2\"\n        ],\n        \"semantic_type\": \"\",\n        \"description\": \"\"\n      }\n    }\n  ]\n}"
            }
          },
          "metadata": {},
          "execution_count": 10
        }
      ]
    },
    {
      "cell_type": "code",
      "source": [
        "test = df_final.iloc[test_dataset.indices]\n",
        "test.to_csv('test_set.csv', index=None)"
      ],
      "metadata": {
        "id": "QdUk-2jbmIXy"
      },
      "execution_count": null,
      "outputs": []
    },
    {
      "cell_type": "code",
      "source": [
        "len(train_dataset)"
      ],
      "metadata": {
        "id": "RpdYDCKN1sGX",
        "colab": {
          "base_uri": "https://localhost:8080/"
        },
        "outputId": "3bfdc2c5-8cc6-4382-bca9-160d60bd2893"
      },
      "execution_count": null,
      "outputs": [
        {
          "output_type": "execute_result",
          "data": {
            "text/plain": [
              "3353"
            ]
          },
          "metadata": {},
          "execution_count": 13
        }
      ]
    },
    {
      "cell_type": "code",
      "source": [
        "len(test_dataset)"
      ],
      "metadata": {
        "colab": {
          "base_uri": "https://localhost:8080/"
        },
        "id": "pbOfKzGd4JTD",
        "outputId": "e522734c-d157-43cb-e3d0-af70fa82ffd6"
      },
      "execution_count": null,
      "outputs": [
        {
          "output_type": "execute_result",
          "data": {
            "text/plain": [
              "839"
            ]
          },
          "metadata": {},
          "execution_count": 14
        }
      ]
    },
    {
      "cell_type": "code",
      "execution_count": null,
      "metadata": {
        "id": "HAghTVJZZa-y"
      },
      "outputs": [],
      "source": [
        "train_loader = DataLoader(train_dataset, batch_size=32, shuffle=True)\n",
        "test_loader = DataLoader(test_dataset, batch_size=32)"
      ]
    },
    {
      "cell_type": "code",
      "source": [
        "type(train_loader)"
      ],
      "metadata": {
        "colab": {
          "base_uri": "https://localhost:8080/",
          "height": 221
        },
        "id": "8yCS1XoHRQ40",
        "outputId": "bffaf0ae-ffd4-421e-e245-f63484b73dde"
      },
      "execution_count": null,
      "outputs": [
        {
          "output_type": "execute_result",
          "data": {
            "text/plain": [
              "torch_geometric.loader.dataloader.DataLoader"
            ],
            "text/html": [
              "<div style=\"max-width:800px; border: 1px solid var(--colab-border-color);\"><style>\n",
              "      pre.function-repr-contents {\n",
              "        overflow-x: auto;\n",
              "        padding: 8px 12px;\n",
              "        max-height: 500px;\n",
              "      }\n",
              "\n",
              "      pre.function-repr-contents.function-repr-contents-collapsed {\n",
              "        cursor: pointer;\n",
              "        max-height: 100px;\n",
              "      }\n",
              "    </style>\n",
              "    <pre style=\"white-space: initial; background:\n",
              "         var(--colab-secondary-surface-color); padding: 8px 12px;\n",
              "         border-bottom: 1px solid var(--colab-border-color);\"><b>torch_geometric.loader.dataloader.DataLoader</b><br/>def __init__(dataset: Union[Dataset, Sequence[BaseData], DatasetAdapter], batch_size: int=1, shuffle: bool=False, follow_batch: Optional[List[str]]=None, exclude_keys: Optional[List[str]]=None, **kwargs)</pre><pre class=\"function-repr-contents function-repr-contents-collapsed\" style=\"\"><a class=\"filepath\" style=\"display:none\" href=\"#\">/usr/local/lib/python3.10/dist-packages/torch_geometric/loader/dataloader.py</a>A data loader which merges data objects from a\n",
              ":class:`torch_geometric.data.Dataset` to a mini-batch.\n",
              "Data objects can be either of type :class:`~torch_geometric.data.Data` or\n",
              ":class:`~torch_geometric.data.HeteroData`.\n",
              "\n",
              "Args:\n",
              "    dataset (Dataset): The dataset from which to load the data.\n",
              "    batch_size (int, optional): How many samples per batch to load.\n",
              "        (default: :obj:`1`)\n",
              "    shuffle (bool, optional): If set to :obj:`True`, the data will be\n",
              "        reshuffled at every epoch. (default: :obj:`False`)\n",
              "    follow_batch (List[str], optional): Creates assignment batch\n",
              "        vectors for each key in the list. (default: :obj:`None`)\n",
              "    exclude_keys (List[str], optional): Will exclude each key in the\n",
              "        list. (default: :obj:`None`)\n",
              "    **kwargs (optional): Additional arguments of\n",
              "        :class:`torch.utils.data.DataLoader`.</pre>\n",
              "      <script>\n",
              "      if (google.colab.kernel.accessAllowed && google.colab.files && google.colab.files.view) {\n",
              "        for (const element of document.querySelectorAll('.filepath')) {\n",
              "          element.style.display = 'block'\n",
              "          element.onclick = (event) => {\n",
              "            event.preventDefault();\n",
              "            event.stopPropagation();\n",
              "            google.colab.files.view(element.textContent, 52);\n",
              "          };\n",
              "        }\n",
              "      }\n",
              "      for (const element of document.querySelectorAll('.function-repr-contents')) {\n",
              "        element.onclick = (event) => {\n",
              "          event.preventDefault();\n",
              "          event.stopPropagation();\n",
              "          element.classList.toggle('function-repr-contents-collapsed');\n",
              "        };\n",
              "      }\n",
              "      </script>\n",
              "      </div>"
            ]
          },
          "metadata": {},
          "execution_count": 16
        }
      ]
    },
    {
      "cell_type": "code",
      "source": [
        "len(list(train_loader))"
      ],
      "metadata": {
        "colab": {
          "base_uri": "https://localhost:8080/"
        },
        "id": "54CJyN14RWbd",
        "outputId": "799bea14-a451-4946-fc42-1b59ede64dc3"
      },
      "execution_count": null,
      "outputs": [
        {
          "output_type": "execute_result",
          "data": {
            "text/plain": [
              "105"
            ]
          },
          "metadata": {},
          "execution_count": 17
        }
      ]
    },
    {
      "cell_type": "markdown",
      "source": [
        "## **Defining Model**"
      ],
      "metadata": {
        "id": "vK-BaJeNhmdD"
      }
    },
    {
      "cell_type": "code",
      "source": [
        "graph_list[0]"
      ],
      "metadata": {
        "colab": {
          "base_uri": "https://localhost:8080/"
        },
        "id": "PtMU-DgltgPa",
        "outputId": "66b8268a-ff19-44e9-98da-4d66a06064ed"
      },
      "execution_count": null,
      "outputs": [
        {
          "output_type": "execute_result",
          "data": {
            "text/plain": [
              "Data(x=[24, 9], edge_index=[2, 54], edge_attr=[54, 3], smiles='Cn1c(CN2CCN(CC2)c3ccc(Cl)cc3)nc4ccccc14', y=[1, 1])"
            ]
          },
          "metadata": {},
          "execution_count": 18
        }
      ]
    },
    {
      "cell_type": "code",
      "execution_count": null,
      "metadata": {
        "id": "r4NV-G9PZcs7"
      },
      "outputs": [],
      "source": [
        "device = torch.device('cuda' if torch.cuda.is_available() else 'cpu')\n",
        "\n",
        "model = AttentiveFP(in_channels=9, hidden_channels=64, out_channels=1,\n",
        "                    edge_dim=3, num_layers=4, num_timesteps=2,\n",
        "                    dropout=0.2).to(device)\n",
        "\n",
        "optimizer = torch.optim.Adam(model.parameters(), lr=10**-2.5,\n",
        "                             weight_decay=10**-5)"
      ]
    },
    {
      "cell_type": "code",
      "source": [
        "print(model)"
      ],
      "metadata": {
        "id": "hoax7NsKvQXE",
        "colab": {
          "base_uri": "https://localhost:8080/"
        },
        "outputId": "cdfc0353-dd34-4dbe-cbc0-48caed8717d9"
      },
      "execution_count": null,
      "outputs": [
        {
          "output_type": "stream",
          "name": "stdout",
          "text": [
            "AttentiveFP(in_channels=9, hidden_channels=64, out_channels=1, edge_dim=3, num_layers=4, num_timesteps=2)\n"
          ]
        }
      ]
    },
    {
      "cell_type": "markdown",
      "source": [
        "## **Train and Test Functions**"
      ],
      "metadata": {
        "id": "WXkhCS8Qh2yM"
      }
    },
    {
      "cell_type": "code",
      "execution_count": null,
      "metadata": {
        "id": "MXu-0JdSZgLD"
      },
      "outputs": [],
      "source": [
        "def train():\n",
        "    total_loss = total_samples = 0\n",
        "    for data in train_loader:\n",
        "        data = data.to(device)\n",
        "        optimizer.zero_grad()\n",
        "        out = model(data.x, data.edge_index, data.edge_attr, data.batch)\n",
        "        loss = F.mse_loss(out, data.y)\n",
        "        loss.backward()\n",
        "        optimizer.step()\n",
        "        total_loss += float(loss) * data.num_graphs\n",
        "        total_samples += data.num_graphs\n",
        "    return sqrt(total_loss / total_samples)"
      ]
    },
    {
      "cell_type": "code",
      "execution_count": null,
      "metadata": {
        "id": "x3lFF9NEZjW6"
      },
      "outputs": [],
      "source": [
        "@torch.no_grad()\n",
        "def test(loader):\n",
        "    mse = []\n",
        "    model.eval()\n",
        "    for data in loader:\n",
        "        data = data.to(device)\n",
        "        out = model(data.x, data.edge_index, data.edge_attr,data.batch)\n",
        "        l = F.mse_loss(out, data.y, reduction='none').cpu()\n",
        "        mse.append(l)\n",
        "    rmse = float(torch.cat(mse, dim=0).mean().sqrt())\n",
        "    return rmse"
      ]
    },
    {
      "cell_type": "markdown",
      "source": [
        "## **Model Training**"
      ],
      "metadata": {
        "id": "YYptScOLbwoe"
      }
    },
    {
      "cell_type": "code",
      "execution_count": null,
      "metadata": {
        "id": "qPYvzzDwZn56",
        "colab": {
          "base_uri": "https://localhost:8080/",
          "height": 1000
        },
        "outputId": "e8d595e1-2e17-49c5-9895-9a63da68c0b5"
      },
      "outputs": [
        {
          "output_type": "stream",
          "name": "stdout",
          "text": [
            "Epoch: 000, Train Loss: 1.3504 Test Loss: 1.1537\n",
            "Epoch: 001, Train Loss: 1.1860 Test Loss: 1.1536\n",
            "Epoch: 002, Train Loss: 1.1726 Test Loss: 1.1326\n",
            "Epoch: 003, Train Loss: 1.1568 Test Loss: 1.1160\n",
            "Epoch: 004, Train Loss: 1.1517 Test Loss: 1.1121\n",
            "Epoch: 005, Train Loss: 1.1352 Test Loss: 1.1120\n",
            "Epoch: 006, Train Loss: 1.1264 Test Loss: 1.1158\n",
            "Epoch: 007, Train Loss: 1.0919 Test Loss: 1.0691\n",
            "Epoch: 008, Train Loss: 1.1108 Test Loss: 1.0784\n",
            "Epoch: 009, Train Loss: 1.0719 Test Loss: 1.0206\n",
            "Epoch: 010, Train Loss: 1.0192 Test Loss: 1.0087\n",
            "Epoch: 011, Train Loss: 0.9991 Test Loss: 0.9660\n",
            "Epoch: 012, Train Loss: 0.9760 Test Loss: 0.9791\n",
            "Epoch: 013, Train Loss: 0.9579 Test Loss: 0.9288\n",
            "Epoch: 014, Train Loss: 0.9470 Test Loss: 0.9022\n",
            "Epoch: 015, Train Loss: 0.9094 Test Loss: 0.8798\n",
            "Epoch: 016, Train Loss: 0.8872 Test Loss: 0.8701\n",
            "Epoch: 017, Train Loss: 0.8729 Test Loss: 0.8424\n",
            "Epoch: 018, Train Loss: 0.8501 Test Loss: 0.8087\n",
            "Epoch: 019, Train Loss: 0.8396 Test Loss: 0.8084\n",
            "Epoch: 020, Train Loss: 0.8412 Test Loss: 0.8345\n",
            "Epoch: 021, Train Loss: 0.8093 Test Loss: 0.7900\n",
            "Epoch: 022, Train Loss: 0.7891 Test Loss: 0.8023\n",
            "Epoch: 023, Train Loss: 0.8010 Test Loss: 0.7808\n",
            "Epoch: 024, Train Loss: 0.7828 Test Loss: 0.7530\n",
            "Epoch: 025, Train Loss: 0.7563 Test Loss: 0.7378\n",
            "Epoch: 026, Train Loss: 0.7458 Test Loss: 0.7673\n",
            "Epoch: 027, Train Loss: 0.7318 Test Loss: 0.7202\n",
            "Epoch: 028, Train Loss: 0.7242 Test Loss: 0.7234\n",
            "Epoch: 029, Train Loss: 0.7080 Test Loss: 0.7657\n",
            "Epoch: 030, Train Loss: 0.7009 Test Loss: 0.7205\n",
            "Epoch: 031, Train Loss: 0.7004 Test Loss: 0.6985\n",
            "Epoch: 032, Train Loss: 0.7071 Test Loss: 0.7396\n",
            "Epoch: 033, Train Loss: 0.7460 Test Loss: 0.7336\n",
            "Epoch: 034, Train Loss: 0.6981 Test Loss: 0.7010\n",
            "Epoch: 035, Train Loss: 0.6870 Test Loss: 0.7433\n",
            "Epoch: 036, Train Loss: 0.6651 Test Loss: 0.6806\n",
            "Epoch: 037, Train Loss: 0.6501 Test Loss: 0.7165\n",
            "Epoch: 038, Train Loss: 0.6297 Test Loss: 0.7003\n",
            "Epoch: 039, Train Loss: 0.6275 Test Loss: 0.6923\n",
            "Epoch: 040, Train Loss: 0.6210 Test Loss: 0.6855\n",
            "Epoch: 041, Train Loss: 0.6093 Test Loss: 0.7711\n",
            "Epoch: 042, Train Loss: 0.6319 Test Loss: 0.7453\n",
            "Epoch: 043, Train Loss: 0.6036 Test Loss: 0.7375\n",
            "Epoch: 044, Train Loss: 0.6008 Test Loss: 0.7351\n",
            "Epoch: 045, Train Loss: 0.5917 Test Loss: 0.6936\n",
            "Epoch: 046, Train Loss: 0.5831 Test Loss: 0.7036\n",
            "Epoch: 047, Train Loss: 0.5849 Test Loss: 0.6807\n",
            "Epoch: 048, Train Loss: 0.5944 Test Loss: 0.6953\n",
            "Epoch: 049, Train Loss: 0.5874 Test Loss: 0.7137\n"
          ]
        },
        {
          "output_type": "execute_result",
          "data": {
            "text/plain": [
              "<matplotlib.legend.Legend at 0x785e6583ece0>"
            ]
          },
          "metadata": {},
          "execution_count": 23
        },
        {
          "output_type": "display_data",
          "data": {
            "text/plain": [
              "<Figure size 640x480 with 1 Axes>"
            ],
            "image/png": "[encoded data removed]"
          },
          "metadata": {}
        }
      ],
      "source": [
        "score_train = []\n",
        "score_test = []\n",
        "epochs = 50\n",
        "model.reset_parameters()\n",
        "for epoch in range(epochs):\n",
        "    train_rmse = train()\n",
        "    test_rmse = test(test_loader)\n",
        "    score_train.append(train_rmse)\n",
        "    score_test.append(test_rmse)\n",
        "    print(f'Epoch: {epoch:03d}, Train Loss: {train_rmse:.4f} '\n",
        "          f'Test Loss: {test_rmse:.4f}')\n",
        "plt.plot(range(epochs), score_train, c='goldenrod')\n",
        "plt.plot(range(epochs), score_test, c = 'blue')\n",
        "plt.xlabel('Epochs')\n",
        "plt.ylabel('RMSE')\n",
        "plt.legend(['train', 'test'])"
      ]
    },
    {
      "cell_type": "markdown",
      "source": [
        "## **Model Evaluation**"
      ],
      "metadata": {
        "id": "a53Jol9Gb1zS"
      }
    },
    {
      "cell_type": "code",
      "source": [
        "@torch.no_grad()\n",
        "def eval(loader):\n",
        "    output = []\n",
        "    smi = []\n",
        "    model.eval()\n",
        "    for data in loader:\n",
        "        data = data.to(device)\n",
        "        out = model(data.x, data.edge_index, data.edge_attr, data.batch)\n",
        "        concatenated_data = torch.cat((out, data.y.view(-1, 1)), dim=1)\n",
        "        output.append(concatenated_data)\n",
        "        smi.append(data.smiles)\n",
        "\n",
        "    # Stack the tensors along batch dimension\n",
        "    stacked_output = torch.cat(output, dim=0)\n",
        "    stacked_smiles = np.concatenate(smi)\n",
        "    results = pd.concat([pd.DataFrame(stacked_output, columns=['pred', 'actual']), pd.DataFrame(stacked_smiles, columns=['smiles'])], axis=1)\n",
        "    r2 = r2_score(results['actual'], results['pred'])\n",
        "    print(f\"The R2 score is {r2}\")\n",
        "    return results"
      ],
      "metadata": {
        "id": "ml68p-nOG8Ca"
      },
      "execution_count": null,
      "outputs": []
    },
    {
      "cell_type": "code",
      "source": [
        "test_res = eval(test_loader)"
      ],
      "metadata": {
        "id": "8qqLslYLOhWM",
        "colab": {
          "base_uri": "https://localhost:8080/"
        },
        "outputId": "fc504f5d-605d-494b-d999-75c6bd184fa4"
      },
      "execution_count": null,
      "outputs": [
        {
          "output_type": "stream",
          "name": "stdout",
          "text": [
            "The R2 score is 0.6314175677808975\n"
          ]
        }
      ]
    },
    {
      "cell_type": "code",
      "source": [
        "test_res.head()"
      ],
      "metadata": {
        "colab": {
          "base_uri": "https://localhost:8080/",
          "height": 206
        },
        "id": "QXg-r9tNySSO",
        "outputId": "eb721319-8493-40c1-b7ed-2dbbc734d599"
      },
      "execution_count": null,
      "outputs": [
        {
          "output_type": "execute_result",
          "data": {
            "text/plain": [
              "       pred  actual                                             smiles\n",
              "0  2.444802    1.28  CCCN(CCO)CCCOc1cc2ncnc(Nc3cc(CC(=O)Nc4cccc(F)c...\n",
              "1  2.969141    3.09        OCc1ccc2ccn(c3cc(NC4CC4)n5ncc(C#N)c5n3)c2c1\n",
              "2  0.990585   -1.41      CC(=O)Nc1cccc2c1c(Oc3ccc(Cl)cc3)c(C)n2CC(=O)O\n",
              "3  2.749895    1.90  CN1CCCC(COc2nccc(Nc3cc(NC(=O)c4ccnc(c4)N5CCOCC...\n",
              "4  3.654452    4.20      CC(C)C[C@H](CO)Nc1nc(SCc2ccccc2)nc3NC(=O)Sc13"
            ],
            "text/html": [
              "\n",
              "  <div id=\"df-cffd3b04-fa6b-4423-96b3-2fe75f168044\" class=\"colab-df-container\">\n",
              "    <div>\n",
              "<style scoped>\n",
              "    .dataframe tbody tr th:only-of-type {\n",
              "        vertical-align: middle;\n",
              "    }\n",
              "\n",
              "    .dataframe tbody tr th {\n",
              "        vertical-align: top;\n",
              "    }\n",
              "\n",
              "    .dataframe thead th {\n",
              "        text-align: right;\n",
              "    }\n",
              "</style>\n",
              "<table border=\"1\" class=\"dataframe\">\n",
              "  <thead>\n",
              "    <tr style=\"text-align: right;\">\n",
              "      <th></th>\n",
              "      <th>pred</th>\n",
              "      <th>actual</th>\n",
              "      <th>smiles</th>\n",
              "    </tr>\n",
              "  </thead>\n",
              "  <tbody>\n",
              "    <tr>\n",
              "      <th>0</th>\n",
              "      <td>2.444802</td>\n",
              "      <td>1.28</td>\n",
              "      <td>CCCN(CCO)CCCOc1cc2ncnc(Nc3cc(CC(=O)Nc4cccc(F)c...</td>\n",
              "    </tr>\n",
              "    <tr>\n",
              "      <th>1</th>\n",
              "      <td>2.969141</td>\n",
              "      <td>3.09</td>\n",
              "      <td>OCc1ccc2ccn(c3cc(NC4CC4)n5ncc(C#N)c5n3)c2c1</td>\n",
              "    </tr>\n",
              "    <tr>\n",
              "      <th>2</th>\n",
              "      <td>0.990585</td>\n",
              "      <td>-1.41</td>\n",
              "      <td>CC(=O)Nc1cccc2c1c(Oc3ccc(Cl)cc3)c(C)n2CC(=O)O</td>\n",
              "    </tr>\n",
              "    <tr>\n",
              "      <th>3</th>\n",
              "      <td>2.749895</td>\n",
              "      <td>1.90</td>\n",
              "      <td>CN1CCCC(COc2nccc(Nc3cc(NC(=O)c4ccnc(c4)N5CCOCC...</td>\n",
              "    </tr>\n",
              "    <tr>\n",
              "      <th>4</th>\n",
              "      <td>3.654452</td>\n",
              "      <td>4.20</td>\n",
              "      <td>CC(C)C[C@H](CO)Nc1nc(SCc2ccccc2)nc3NC(=O)Sc13</td>\n",
              "    </tr>\n",
              "  </tbody>\n",
              "</table>\n",
              "</div>\n",
              "    <div class=\"colab-df-buttons\">\n",
              "\n",
              "  <div class=\"colab-df-container\">\n",
              "    <button class=\"colab-df-convert\" onclick=\"convertToInteractive('df-cffd3b04-fa6b-4423-96b3-2fe75f168044')\"\n",
              "            title=\"Convert this dataframe to an interactive table.\"\n",
              "            style=\"display:none;\">\n",
              "\n",
              "  <svg xmlns=\"http://www.w3.org/2000/svg\" height=\"24px\" viewBox=\"0 -960 960 960\">\n",
              "    <path d=\"M120-120v-720h720v720H120Zm60-500h600v-160H180v160Zm220 220h160v-160H400v160Zm0 220h160v-160H400v160ZM180-400h160v-160H180v160Zm440 0h160v-160H620v160ZM180-180h160v-160H180v160Zm440 0h160v-160H620v160Z\"/>\n",
              "  </svg>\n",
              "    </button>\n",
              "\n",
              "  <style>\n",
              "    .colab-df-container {\n",
              "      display:flex;\n",
              "      gap: 12px;\n",
              "    }\n",
              "\n",
              "    .colab-df-convert {\n",
              "      background-color: #E8F0FE;\n",
              "      border: none;\n",
              "      border-radius: 50%;\n",
              "      cursor: pointer;\n",
              "      display: none;\n",
              "      fill: #1967D2;\n",
              "      height: 32px;\n",
              "      padding: 0 0 0 0;\n",
              "      width: 32px;\n",
              "    }\n",
              "\n",
              "    .colab-df-convert:hover {\n",
              "      background-color: #E2EBFA;\n",
              "      box-shadow: 0px 1px 2px rgba(60, 64, 67, 0.3), 0px 1px 3px 1px rgba(60, 64, 67, 0.15);\n",
              "      fill: #174EA6;\n",
              "    }\n",
              "\n",
              "    .colab-df-buttons div {\n",
              "      margin-bottom: 4px;\n",
              "    }\n",
              "\n",
              "    [theme=dark] .colab-df-convert {\n",
              "      background-color: #3B4455;\n",
              "      fill: #D2E3FC;\n",
              "    }\n",
              "\n",
              "    [theme=dark] .colab-df-convert:hover {\n",
              "      background-color: #434B5C;\n",
              "      box-shadow: 0px 1px 3px 1px rgba(0, 0, 0, 0.15);\n",
              "      filter: drop-shadow(0px 1px 2px rgba(0, 0, 0, 0.3));\n",
              "      fill: #FFFFFF;\n",
              "    }\n",
              "  </style>\n",
              "\n",
              "    <script>\n",
              "      const buttonEl =\n",
              "        document.querySelector('#df-cffd3b04-fa6b-4423-96b3-2fe75f168044 button.colab-df-convert');\n",
              "      buttonEl.style.display =\n",
              "        google.colab.kernel.accessAllowed ? 'block' : 'none';\n",
              "\n",
              "      async function convertToInteractive(key) {\n",
              "        const element = document.querySelector('#df-cffd3b04-fa6b-4423-96b3-2fe75f168044');\n",
              "        const dataTable =\n",
              "          await google.colab.kernel.invokeFunction('convertToInteractive',\n",
              "                                                    [key], {});\n",
              "        if (!dataTable) return;\n",
              "\n",
              "        const docLinkHtml = 'Like what you see? Visit the ' +\n",
              "          '<a target=\"_blank\" href=https://colab.research.google.com/notebooks/data_table.ipynb>data table notebook</a>'\n",
              "          + ' to learn more about interactive tables.';\n",
              "        element.innerHTML = '';\n",
              "        dataTable['output_type'] = 'display_data';\n",
              "        await google.colab.output.renderOutput(dataTable, element);\n",
              "        const docLink = document.createElement('div');\n",
              "        docLink.innerHTML = docLinkHtml;\n",
              "        element.appendChild(docLink);\n",
              "      }\n",
              "    </script>\n",
              "  </div>\n",
              "\n",
              "\n",
              "<div id=\"df-bf38b64b-b742-4787-a2ae-d1855ae38787\">\n",
              "  <button class=\"colab-df-quickchart\" onclick=\"quickchart('df-bf38b64b-b742-4787-a2ae-d1855ae38787')\"\n",
              "            title=\"Suggest charts\"\n",
              "            style=\"display:none;\">\n",
              "\n",
              "<svg xmlns=\"http://www.w3.org/2000/svg\" height=\"24px\"viewBox=\"0 0 24 24\"\n",
              "     width=\"24px\">\n",
              "    <g>\n",
              "        <path d=\"M19 3H5c-1.1 0-2 .9-2 2v14c0 1.1.9 2 2 2h14c1.1 0 2-.9 2-2V5c0-1.1-.9-2-2-2zM9 17H7v-7h2v7zm4 0h-2V7h2v10zm4 0h-2v-4h2v4z\"/>\n",
              "    </g>\n",
              "</svg>\n",
              "  </button>\n",
              "\n",
              "<style>\n",
              "  .colab-df-quickchart {\n",
              "      --bg-color: #E8F0FE;\n",
              "      --fill-color: #1967D2;\n",
              "      --hover-bg-color: #E2EBFA;\n",
              "      --hover-fill-color: #174EA6;\n",
              "      --disabled-fill-color: #AAA;\n",
              "      --disabled-bg-color: #DDD;\n",
              "  }\n",
              "\n",
              "  [theme=dark] .colab-df-quickchart {\n",
              "      --bg-color: #3B4455;\n",
              "      --fill-color: #D2E3FC;\n",
              "      --hover-bg-color: #434B5C;\n",
              "      --hover-fill-color: #FFFFFF;\n",
              "      --disabled-bg-color: #3B4455;\n",
              "      --disabled-fill-color: #666;\n",
              "  }\n",
              "\n",
              "  .colab-df-quickchart {\n",
              "    background-color: var(--bg-color);\n",
              "    border: none;\n",
              "    border-radius: 50%;\n",
              "    cursor: pointer;\n",
              "    display: none;\n",
              "    fill: var(--fill-color);\n",
              "    height: 32px;\n",
              "    padding: 0;\n",
              "    width: 32px;\n",
              "  }\n",
              "\n",
              "  .colab-df-quickchart:hover {\n",
              "    background-color: var(--hover-bg-color);\n",
              "    box-shadow: 0 1px 2px rgba(60, 64, 67, 0.3), 0 1px 3px 1px rgba(60, 64, 67, 0.15);\n",
              "    fill: var(--button-hover-fill-color);\n",
              "  }\n",
              "\n",
              "  .colab-df-quickchart-complete:disabled,\n",
              "  .colab-df-quickchart-complete:disabled:hover {\n",
              "    background-color: var(--disabled-bg-color);\n",
              "    fill: var(--disabled-fill-color);\n",
              "    box-shadow: none;\n",
              "  }\n",
              "\n",
              "  .colab-df-spinner {\n",
              "    border: 2px solid var(--fill-color);\n",
              "    border-color: transparent;\n",
              "    border-bottom-color: var(--fill-color);\n",
              "    animation:\n",
              "      spin 1s steps(1) infinite;\n",
              "  }\n",
              "\n",
              "  @keyframes spin {\n",
              "    0% {\n",
              "      border-color: transparent;\n",
              "      border-bottom-color: var(--fill-color);\n",
              "      border-left-color: var(--fill-color);\n",
              "    }\n",
              "    20% {\n",
              "      border-color: transparent;\n",
              "      border-left-color: var(--fill-color);\n",
              "      border-top-color: var(--fill-color);\n",
              "    }\n",
              "    30% {\n",
              "      border-color: transparent;\n",
              "      border-left-color: var(--fill-color);\n",
              "      border-top-color: var(--fill-color);\n",
              "      border-right-color: var(--fill-color);\n",
              "    }\n",
              "    40% {\n",
              "      border-color: transparent;\n",
              "      border-right-color: var(--fill-color);\n",
              "      border-top-color: var(--fill-color);\n",
              "    }\n",
              "    60% {\n",
              "      border-color: transparent;\n",
              "      border-right-color: var(--fill-color);\n",
              "    }\n",
              "    80% {\n",
              "      border-color: transparent;\n",
              "      border-right-color: var(--fill-color);\n",
              "      border-bottom-color: var(--fill-color);\n",
              "    }\n",
              "    90% {\n",
              "      border-color: transparent;\n",
              "      border-bottom-color: var(--fill-color);\n",
              "    }\n",
              "  }\n",
              "</style>\n",
              "\n",
              "  <script>\n",
              "    async function quickchart(key) {\n",
              "      const quickchartButtonEl =\n",
              "        document.querySelector('#' + key + ' button');\n",
              "      quickchartButtonEl.disabled = true;  // To prevent multiple clicks.\n",
              "      quickchartButtonEl.classList.add('colab-df-spinner');\n",
              "      try {\n",
              "        const charts = await google.colab.kernel.invokeFunction(\n",
              "            'suggestCharts', [key], {});\n",
              "      } catch (error) {\n",
              "        console.error('Error during call to suggestCharts:', error);\n",
              "      }\n",
              "      quickchartButtonEl.classList.remove('colab-df-spinner');\n",
              "      quickchartButtonEl.classList.add('colab-df-quickchart-complete');\n",
              "    }\n",
              "    (() => {\n",
              "      let quickchartButtonEl =\n",
              "        document.querySelector('#df-bf38b64b-b742-4787-a2ae-d1855ae38787 button');\n",
              "      quickchartButtonEl.style.display =\n",
              "        google.colab.kernel.accessAllowed ? 'block' : 'none';\n",
              "    })();\n",
              "  </script>\n",
              "</div>\n",
              "\n",
              "    </div>\n",
              "  </div>\n"
            ],
            "application/vnd.google.colaboratory.intrinsic+json": {
              "type": "dataframe",
              "variable_name": "test_res",
              "summary": "{\n  \"name\": \"test_res\",\n  \"rows\": 839,\n  \"fields\": [\n    {\n      \"column\": \"pred\",\n      \"properties\": {\n        \"dtype\": \"float32\",\n        \"num_unique_values\": 839,\n        \"samples\": [\n          3.560680866241455,\n          0.4123818278312683,\n          3.0346596240997314\n        ],\n        \"semantic_type\": \"\",\n        \"description\": \"\"\n      }\n    },\n    {\n      \"column\": \"actual\",\n      \"properties\": {\n        \"dtype\": \"float32\",\n        \"num_unique_values\": 355,\n        \"samples\": [\n          3.890000104904175,\n          2.180000066757202,\n          1.100000023841858\n        ],\n        \"semantic_type\": \"\",\n        \"description\": \"\"\n      }\n    },\n    {\n      \"column\": \"smiles\",\n      \"properties\": {\n        \"dtype\": \"string\",\n        \"num_unique_values\": 839,\n        \"samples\": [\n          \"C[C@@H]1CN(C[C@H](C)O1)c2nc(N3CCOC[C@@H]3C)c4ccc(nc4n2)c5ccccc5\",\n          \"CN1C(=O)CC(C1=O)c2ccccc2\",\n          \"O=C1C=C(OCc2ccccc2)C=CN1c3ccc4c(cnn4CCN5CCCC5)c3\"\n        ],\n        \"semantic_type\": \"\",\n        \"description\": \"\"\n      }\n    }\n  ]\n}"
            }
          },
          "metadata": {},
          "execution_count": 26
        }
      ]
    },
    {
      "cell_type": "code",
      "source": [
        "np.sqrt(mean_squared_error(test_res['actual'], test_res['pred']))"
      ],
      "metadata": {
        "colab": {
          "base_uri": "https://localhost:8080/"
        },
        "id": "KuOTNGjy2YOE",
        "outputId": "c660b038-236f-405f-8af9-cfa3a238bcf8"
      },
      "execution_count": null,
      "outputs": [
        {
          "output_type": "execute_result",
          "data": {
            "text/plain": [
              "0.71371806"
            ]
          },
          "metadata": {},
          "execution_count": 27
        }
      ]
    },
    {
      "cell_type": "code",
      "source": [
        "train_res = eval(train_loader)"
      ],
      "metadata": {
        "id": "8DNCdPBxjMZB",
        "colab": {
          "base_uri": "https://localhost:8080/"
        },
        "outputId": "7d520b6b-0581-45e8-8355-58440d987156"
      },
      "execution_count": null,
      "outputs": [
        {
          "output_type": "stream",
          "name": "stdout",
          "text": [
            "The R2 score is 0.7676159988960789\n"
          ]
        }
      ]
    },
    {
      "cell_type": "code",
      "source": [
        "train_res.head()"
      ],
      "metadata": {
        "colab": {
          "base_uri": "https://localhost:8080/",
          "height": 206
        },
        "id": "5XksEAisyZj8",
        "outputId": "44252717-2bea-4c92-9408-8585ddddb0fe"
      },
      "execution_count": null,
      "outputs": [
        {
          "output_type": "execute_result",
          "data": {
            "text/plain": [
              "       pred  actual                                             smiles\n",
              "0  3.143712    3.50                     CCn1c2ccccc2c3cc(NC(=O)C)ccc13\n",
              "1  2.131013    2.16  CN(C)CCCN(C)S(=O)(=O)c1ccc(Nc2nccc(n2)c3cnc4cc...\n",
              "2  2.269830    2.48  OC(=O)c1ccccc1CN2CCC(CN3CCC(CC3)Oc4ccc(Cl)c(Cl...\n",
              "3  2.097234    2.18  Clc1ccc(O[C@H]2CCCNC2)cc1C(=O)NCC34CC5CC(CC(C5...\n",
              "4  1.712787    0.05             CCN1CCC[C@H]1CNC(=O)c2c(OC)ccc(Br)c2OC"
            ],
            "text/html": [
              "\n",
              "  <div id=\"df-7dfafe47-285e-4bc1-8b17-b5d03bf61cb7\" class=\"colab-df-container\">\n",
              "    <div>\n",
              "<style scoped>\n",
              "    .dataframe tbody tr th:only-of-type {\n",
              "        vertical-align: middle;\n",
              "    }\n",
              "\n",
              "    .dataframe tbody tr th {\n",
              "        vertical-align: top;\n",
              "    }\n",
              "\n",
              "    .dataframe thead th {\n",
              "        text-align: right;\n",
              "    }\n",
              "</style>\n",
              "<table border=\"1\" class=\"dataframe\">\n",
              "  <thead>\n",
              "    <tr style=\"text-align: right;\">\n",
              "      <th></th>\n",
              "      <th>pred</th>\n",
              "      <th>actual</th>\n",
              "      <th>smiles</th>\n",
              "    </tr>\n",
              "  </thead>\n",
              "  <tbody>\n",
              "    <tr>\n",
              "      <th>0</th>\n",
              "      <td>3.143712</td>\n",
              "      <td>3.50</td>\n",
              "      <td>CCn1c2ccccc2c3cc(NC(=O)C)ccc13</td>\n",
              "    </tr>\n",
              "    <tr>\n",
              "      <th>1</th>\n",
              "      <td>2.131013</td>\n",
              "      <td>2.16</td>\n",
              "      <td>CN(C)CCCN(C)S(=O)(=O)c1ccc(Nc2nccc(n2)c3cnc4cc...</td>\n",
              "    </tr>\n",
              "    <tr>\n",
              "      <th>2</th>\n",
              "      <td>2.269830</td>\n",
              "      <td>2.48</td>\n",
              "      <td>OC(=O)c1ccccc1CN2CCC(CN3CCC(CC3)Oc4ccc(Cl)c(Cl...</td>\n",
              "    </tr>\n",
              "    <tr>\n",
              "      <th>3</th>\n",
              "      <td>2.097234</td>\n",
              "      <td>2.18</td>\n",
              "      <td>Clc1ccc(O[C@H]2CCCNC2)cc1C(=O)NCC34CC5CC(CC(C5...</td>\n",
              "    </tr>\n",
              "    <tr>\n",
              "      <th>4</th>\n",
              "      <td>1.712787</td>\n",
              "      <td>0.05</td>\n",
              "      <td>CCN1CCC[C@H]1CNC(=O)c2c(OC)ccc(Br)c2OC</td>\n",
              "    </tr>\n",
              "  </tbody>\n",
              "</table>\n",
              "</div>\n",
              "    <div class=\"colab-df-buttons\">\n",
              "\n",
              "  <div class=\"colab-df-container\">\n",
              "    <button class=\"colab-df-convert\" onclick=\"convertToInteractive('df-7dfafe47-285e-4bc1-8b17-b5d03bf61cb7')\"\n",
              "            title=\"Convert this dataframe to an interactive table.\"\n",
              "            style=\"display:none;\">\n",
              "\n",
              "  <svg xmlns=\"http://www.w3.org/2000/svg\" height=\"24px\" viewBox=\"0 -960 960 960\">\n",
              "    <path d=\"M120-120v-720h720v720H120Zm60-500h600v-160H180v160Zm220 220h160v-160H400v160Zm0 220h160v-160H400v160ZM180-400h160v-160H180v160Zm440 0h160v-160H620v160ZM180-180h160v-160H180v160Zm440 0h160v-160H620v160Z\"/>\n",
              "  </svg>\n",
              "    </button>\n",
              "\n",
              "  <style>\n",
              "    .colab-df-container {\n",
              "      display:flex;\n",
              "      gap: 12px;\n",
              "    }\n",
              "\n",
              "    .colab-df-convert {\n",
              "      background-color: #E8F0FE;\n",
              "      border: none;\n",
              "      border-radius: 50%;\n",
              "      cursor: pointer;\n",
              "      display: none;\n",
              "      fill: #1967D2;\n",
              "      height: 32px;\n",
              "      padding: 0 0 0 0;\n",
              "      width: 32px;\n",
              "    }\n",
              "\n",
              "    .colab-df-convert:hover {\n",
              "      background-color: #E2EBFA;\n",
              "      box-shadow: 0px 1px 2px rgba(60, 64, 67, 0.3), 0px 1px 3px 1px rgba(60, 64, 67, 0.15);\n",
              "      fill: #174EA6;\n",
              "    }\n",
              "\n",
              "    .colab-df-buttons div {\n",
              "      margin-bottom: 4px;\n",
              "    }\n",
              "\n",
              "    [theme=dark] .colab-df-convert {\n",
              "      background-color: #3B4455;\n",
              "      fill: #D2E3FC;\n",
              "    }\n",
              "\n",
              "    [theme=dark] .colab-df-convert:hover {\n",
              "      background-color: #434B5C;\n",
              "      box-shadow: 0px 1px 3px 1px rgba(0, 0, 0, 0.15);\n",
              "      filter: drop-shadow(0px 1px 2px rgba(0, 0, 0, 0.3));\n",
              "      fill: #FFFFFF;\n",
              "    }\n",
              "  </style>\n",
              "\n",
              "    <script>\n",
              "      const buttonEl =\n",
              "        document.querySelector('#df-7dfafe47-285e-4bc1-8b17-b5d03bf61cb7 button.colab-df-convert');\n",
              "      buttonEl.style.display =\n",
              "        google.colab.kernel.accessAllowed ? 'block' : 'none';\n",
              "\n",
              "      async function convertToInteractive(key) {\n",
              "        const element = document.querySelector('#df-7dfafe47-285e-4bc1-8b17-b5d03bf61cb7');\n",
              "        const dataTable =\n",
              "          await google.colab.kernel.invokeFunction('convertToInteractive',\n",
              "                                                    [key], {});\n",
              "        if (!dataTable) return;\n",
              "\n",
              "        const docLinkHtml = 'Like what you see? Visit the ' +\n",
              "          '<a target=\"_blank\" href=https://colab.research.google.com/notebooks/data_table.ipynb>data table notebook</a>'\n",
              "          + ' to learn more about interactive tables.';\n",
              "        element.innerHTML = '';\n",
              "        dataTable['output_type'] = 'display_data';\n",
              "        await google.colab.output.renderOutput(dataTable, element);\n",
              "        const docLink = document.createElement('div');\n",
              "        docLink.innerHTML = docLinkHtml;\n",
              "        element.appendChild(docLink);\n",
              "      }\n",
              "    </script>\n",
              "  </div>\n",
              "\n",
              "\n",
              "<div id=\"df-a8b1dc79-4040-4e11-b889-fb638099438d\">\n",
              "  <button class=\"colab-df-quickchart\" onclick=\"quickchart('df-a8b1dc79-4040-4e11-b889-fb638099438d')\"\n",
              "            title=\"Suggest charts\"\n",
              "            style=\"display:none;\">\n",
              "\n",
              "<svg xmlns=\"http://www.w3.org/2000/svg\" height=\"24px\"viewBox=\"0 0 24 24\"\n",
              "     width=\"24px\">\n",
              "    <g>\n",
              "        <path d=\"M19 3H5c-1.1 0-2 .9-2 2v14c0 1.1.9 2 2 2h14c1.1 0 2-.9 2-2V5c0-1.1-.9-2-2-2zM9 17H7v-7h2v7zm4 0h-2V7h2v10zm4 0h-2v-4h2v4z\"/>\n",
              "    </g>\n",
              "</svg>\n",
              "  </button>\n",
              "\n",
              "<style>\n",
              "  .colab-df-quickchart {\n",
              "      --bg-color: #E8F0FE;\n",
              "      --fill-color: #1967D2;\n",
              "      --hover-bg-color: #E2EBFA;\n",
              "      --hover-fill-color: #174EA6;\n",
              "      --disabled-fill-color: #AAA;\n",
              "      --disabled-bg-color: #DDD;\n",
              "  }\n",
              "\n",
              "  [theme=dark] .colab-df-quickchart {\n",
              "      --bg-color: #3B4455;\n",
              "      --fill-color: #D2E3FC;\n",
              "      --hover-bg-color: #434B5C;\n",
              "      --hover-fill-color: #FFFFFF;\n",
              "      --disabled-bg-color: #3B4455;\n",
              "      --disabled-fill-color: #666;\n",
              "  }\n",
              "\n",
              "  .colab-df-quickchart {\n",
              "    background-color: var(--bg-color);\n",
              "    border: none;\n",
              "    border-radius: 50%;\n",
              "    cursor: pointer;\n",
              "    display: none;\n",
              "    fill: var(--fill-color);\n",
              "    height: 32px;\n",
              "    padding: 0;\n",
              "    width: 32px;\n",
              "  }\n",
              "\n",
              "  .colab-df-quickchart:hover {\n",
              "    background-color: var(--hover-bg-color);\n",
              "    box-shadow: 0 1px 2px rgba(60, 64, 67, 0.3), 0 1px 3px 1px rgba(60, 64, 67, 0.15);\n",
              "    fill: var(--button-hover-fill-color);\n",
              "  }\n",
              "\n",
              "  .colab-df-quickchart-complete:disabled,\n",
              "  .colab-df-quickchart-complete:disabled:hover {\n",
              "    background-color: var(--disabled-bg-color);\n",
              "    fill: var(--disabled-fill-color);\n",
              "    box-shadow: none;\n",
              "  }\n",
              "\n",
              "  .colab-df-spinner {\n",
              "    border: 2px solid var(--fill-color);\n",
              "    border-color: transparent;\n",
              "    border-bottom-color: var(--fill-color);\n",
              "    animation:\n",
              "      spin 1s steps(1) infinite;\n",
              "  }\n",
              "\n",
              "  @keyframes spin {\n",
              "    0% {\n",
              "      border-color: transparent;\n",
              "      border-bottom-color: var(--fill-color);\n",
              "      border-left-color: var(--fill-color);\n",
              "    }\n",
              "    20% {\n",
              "      border-color: transparent;\n",
              "      border-left-color: var(--fill-color);\n",
              "      border-top-color: var(--fill-color);\n",
              "    }\n",
              "    30% {\n",
              "      border-color: transparent;\n",
              "      border-left-color: var(--fill-color);\n",
              "      border-top-color: var(--fill-color);\n",
              "      border-right-color: var(--fill-color);\n",
              "    }\n",
              "    40% {\n",
              "      border-color: transparent;\n",
              "      border-right-color: var(--fill-color);\n",
              "      border-top-color: var(--fill-color);\n",
              "    }\n",
              "    60% {\n",
              "      border-color: transparent;\n",
              "      border-right-color: var(--fill-color);\n",
              "    }\n",
              "    80% {\n",
              "      border-color: transparent;\n",
              "      border-right-color: var(--fill-color);\n",
              "      border-bottom-color: var(--fill-color);\n",
              "    }\n",
              "    90% {\n",
              "      border-color: transparent;\n",
              "      border-bottom-color: var(--fill-color);\n",
              "    }\n",
              "  }\n",
              "</style>\n",
              "\n",
              "  <script>\n",
              "    async function quickchart(key) {\n",
              "      const quickchartButtonEl =\n",
              "        document.querySelector('#' + key + ' button');\n",
              "      quickchartButtonEl.disabled = true;  // To prevent multiple clicks.\n",
              "      quickchartButtonEl.classList.add('colab-df-spinner');\n",
              "      try {\n",
              "        const charts = await google.colab.kernel.invokeFunction(\n",
              "            'suggestCharts', [key], {});\n",
              "      } catch (error) {\n",
              "        console.error('Error during call to suggestCharts:', error);\n",
              "      }\n",
              "      quickchartButtonEl.classList.remove('colab-df-spinner');\n",
              "      quickchartButtonEl.classList.add('colab-df-quickchart-complete');\n",
              "    }\n",
              "    (() => {\n",
              "      let quickchartButtonEl =\n",
              "        document.querySelector('#df-a8b1dc79-4040-4e11-b889-fb638099438d button');\n",
              "      quickchartButtonEl.style.display =\n",
              "        google.colab.kernel.accessAllowed ? 'block' : 'none';\n",
              "    })();\n",
              "  </script>\n",
              "</div>\n",
              "\n",
              "    </div>\n",
              "  </div>\n"
            ],
            "application/vnd.google.colaboratory.intrinsic+json": {
              "type": "dataframe",
              "variable_name": "train_res",
              "summary": "{\n  \"name\": \"train_res\",\n  \"rows\": 3353,\n  \"fields\": [\n    {\n      \"column\": \"pred\",\n      \"properties\": {\n        \"dtype\": \"float32\",\n        \"num_unique_values\": 3353,\n        \"samples\": [\n          0.9799610376358032,\n          1.5959486961364746,\n          3.6396734714508057\n        ],\n        \"semantic_type\": \"\",\n        \"description\": \"\"\n      }\n    },\n    {\n      \"column\": \"actual\",\n      \"properties\": {\n        \"dtype\": \"float32\",\n        \"num_unique_values\": 539,\n        \"samples\": [\n          -1.1799999475479126,\n          4.289999961853027,\n          3.2699999809265137\n        ],\n        \"semantic_type\": \"\",\n        \"description\": \"\"\n      }\n    },\n    {\n      \"column\": \"smiles\",\n      \"properties\": {\n        \"dtype\": \"string\",\n        \"num_unique_values\": 3353,\n        \"samples\": [\n          \"CO[C@H]1CN(CCN2C(=O)C=Nc3ccc(OC)cc23)CC[C@H]1NCc4ccc5OCC(=O)Nc5n4\",\n          \"N[C@@H](Cc1cccs1)C(=O)N[C@]2(C[C@H]2c3ccccc3)C#N\",\n          \"Clc1cccc(Cl)c1\\\\C(=C\\\\n2cncn2)\\\\OC3CCCCCC3\"\n        ],\n        \"semantic_type\": \"\",\n        \"description\": \"\"\n      }\n    }\n  ]\n}"
            }
          },
          "metadata": {},
          "execution_count": 29
        }
      ]
    },
    {
      "cell_type": "code",
      "source": [
        "np.sqrt(mean_squared_error(train_res['actual'], train_res['pred']))"
      ],
      "metadata": {
        "colab": {
          "base_uri": "https://localhost:8080/"
        },
        "id": "Z2tGLehG7bQV",
        "outputId": "8c802dd3-b564-42c5-fd23-210ddd503494"
      },
      "execution_count": null,
      "outputs": [
        {
          "output_type": "execute_result",
          "data": {
            "text/plain": [
              "0.58187866"
            ]
          },
          "metadata": {},
          "execution_count": 30
        }
      ]
    },
    {
      "cell_type": "code",
      "execution_count": null,
      "metadata": {
        "id": "CBOzzVTHq0jt"
      },
      "outputs": [],
      "source": [
        "torch.save(model, '/content/model_lipo.pth')"
      ]
    },
    {
      "cell_type": "code",
      "source": [
        "model = torch.load('/content/model_lipo.pth')"
      ],
      "metadata": {
        "id": "ElBlwE-mpX0k"
      },
      "execution_count": null,
      "outputs": []
    },
    {
      "cell_type": "code",
      "source": [
        "test_res = eval(test_loader)"
      ],
      "metadata": {
        "id": "xbpoaN_3tP04",
        "colab": {
          "base_uri": "https://localhost:8080/"
        },
        "outputId": "7911ece1-bed2-4276-97c1-b4ee61f81b0f"
      },
      "execution_count": null,
      "outputs": [
        {
          "output_type": "stream",
          "name": "stdout",
          "text": [
            "The R2 score is 0.6314175677808975\n"
          ]
        }
      ]
    },
    {
      "cell_type": "markdown",
      "source": [
        "## **Post-hoc Analysis**"
      ],
      "metadata": {
        "id": "HG2zApkNauXN"
      }
    },
    {
      "cell_type": "code",
      "source": [],
      "metadata": {
        "id": "F952I5fqnHHa"
      },
      "execution_count": null,
      "outputs": []
    }
  ],
  "metadata": {
    "colab": {
      "provenance": []
    },
    "kernelspec": {
      "display_name": "Python 3",
      "name": "python3"
    },
    "language_info": {
      "name": "python"
    }
  },
  "nbformat": 4,
  "nbformat_minor": 0
}